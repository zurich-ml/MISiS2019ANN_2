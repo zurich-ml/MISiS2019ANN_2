{
 "cells": [
  {
   "cell_type": "markdown",
   "metadata": {
    "colab_type": "text",
    "id": "S45-jHTAiS-H"
   },
   "source": [
    "# Tutorial: Coding an AutoEncoder in Tensorflow"
   ]
  },
  {
   "cell_type": "markdown",
   "metadata": {
    "colab_type": "text",
    "id": "ru4BSbh0iS-I"
   },
   "source": [
    "\n",
    "The AutoEncoder network is a network architecture that aims to compress a high dimensional input vector to a vector in a lower dimensional space (encoding). In order to do so the network compresses and decompresses the input during the learning process.\n",
    "\n",
    "![Center](images/ae_arch.png)\n",
    "\n",
    " We call the input of the network $X$ and the output $X'$. The train the network to obtain the optimal compression, i.e. when the difference between the input $X$ and the decompressed output $X'$ is minimum.\n",
    "\n",
    "\n",
    "\n",
    "\n"
   ]
  },
  {
   "cell_type": "markdown",
   "metadata": {
    "colab_type": "text",
    "id": "eZRH6jb9iS-J"
   },
   "source": [
    "***\n",
    "Let's first import some useful libraries, and define the Leaky_ReLU function:"
   ]
  },
  {
   "cell_type": "code",
   "execution_count": 0,
   "metadata": {
    "colab": {},
    "colab_type": "code",
    "id": "aArrtxPRiS-K"
   },
   "outputs": [],
   "source": [
    "import numpy as np\n",
    "import tensorflow as tf\n",
    "import matplotlib.pyplot as plt\n",
    "\n",
    "def lrelu(X, alpha=0.1):\n",
    "    return tf.maximum(alpha*X, X)"
   ]
  },
  {
   "cell_type": "markdown",
   "metadata": {
    "colab_type": "text",
    "id": "rH4KMkOdiS-O"
   },
   "source": [
    "\n",
    "***\n",
    "Let's also import the training set"
   ]
  },
  {
   "cell_type": "code",
   "execution_count": 2,
   "metadata": {
    "colab": {
     "base_uri": "https://localhost:8080/",
     "height": 53
    },
    "colab_type": "code",
    "id": "TQWcWpfDiS-O",
    "outputId": "b923c8f6-e6c9-4cf6-a2b3-d07c6efd7f53"
   },
   "outputs": [
    {
     "name": "stdout",
     "output_type": "stream",
     "text": [
      "Downloading data from https://storage.googleapis.com/tensorflow/tf-keras-datasets/mnist.npz\n",
      "11493376/11490434 [==============================] - 0s 0us/step\n"
     ]
    }
   ],
   "source": [
    "mnist = tf.keras.datasets.mnist\n",
    "(X_train, _), (X_test, _) = mnist.load_data()"
   ]
  },
  {
   "cell_type": "markdown",
   "metadata": {
    "colab_type": "text",
    "id": "hQJgGlCdiS-R"
   },
   "source": [
    "and draw a sample"
   ]
  },
  {
   "cell_type": "code",
   "execution_count": 3,
   "metadata": {
    "colab": {
     "base_uri": "https://localhost:8080/",
     "height": 337
    },
    "colab_type": "code",
    "id": "QZQf2nnliS-S",
    "outputId": "4f772fa7-35aa-4110-d54a-2982a0614ef5"
   },
   "outputs": [
    {
     "name": "stdout",
     "output_type": "stream",
     "text": [
      "\n",
      " Sample: \n",
      "\n"
     ]
    },
    {
     "data": {
      "text/plain": [
       "(-0.5, 27.5, 27.5, -0.5)"
      ]
     },
     "execution_count": 3,
     "metadata": {
      "tags": []
     },
     "output_type": "execute_result"
    },
    {
     "data": {
      "image/png": "[encoded data removed]",
      "text/plain": [
       "<Figure size 432x288 with 1 Axes>"
      ]
     },
     "metadata": {
      "tags": []
     },
     "output_type": "display_data"
    }
   ],
   "source": [
    "sample = 2 # chose one sample in the training set\n",
    "\n",
    "# rescale the data\n",
    "X_train = X_train.astype(np.float32).reshape(-1, 28 * 28) / X_train.max()\n",
    "X_test = X_test.astype(np.float32).reshape(-1, 28 * 28) / X_train.max()\n",
    "\n",
    "print('\\n Sample: \\n')\n",
    "plt.imshow(X_test[sample].reshape(28,28), cmap='gray')\n",
    "plt.axis('off');"
   ]
  },
  {
   "cell_type": "markdown",
   "metadata": {
    "colab_type": "text",
    "id": "na7bPuICiS-Y"
   },
   "source": [
    "## 1) Layer class definition"
   ]
  },
  {
   "cell_type": "markdown",
   "metadata": {
    "colab_type": "text",
    "id": "Q3yv_Rz-iS-Z"
   },
   "source": [
    "This class provides the definition of a dense layer. A dense layer is characterized by its trainable weights:\n",
    "\n",
    "- a matrix W of dimensions (m_input, m_output)\n",
    "- a bias vector b of dimensions (m_output)\n",
    "\n",
    "The Layer class possesses the ```forward``` method which performs the linear forward propagation:\n",
    "\n",
    "$$\n",
    "Z_{out}= X_{in} \\times W(m_{in},m_{out})+b(m_{out})\n",
    "$$\n",
    "\n",
    "Code along with us and follow the provided instructions:"
   ]
  },
  {
   "cell_type": "code",
   "execution_count": 0,
   "metadata": {
    "colab": {},
    "colab_type": "code",
    "id": "5wrfmSmriS-Z"
   },
   "outputs": [],
   "source": [
    "class Layer(object):\n",
    "    \n",
    "    def __init__(self, mi, mo, name):\n",
    "        \n",
    "        \"\"\"\n",
    "        This is the init method of the class Layer:\n",
    "        It defines the class itself and contains the\n",
    "        definition of the parameters that will be used by\n",
    "        the other class' methods (i.e. forward)\n",
    "        \n",
    "        Parameters\n",
    "        ----------\n",
    "        mi (int): number of input features\n",
    "        mo (int): number of output features\n",
    "        name (str): name of the layer\n",
    "        \n",
    "        \"\"\"\n",
    "        # we are creating a dense layer, it's trainable parameters\n",
    "        # are the matrix W of dimensions (mi, mo) and the biases\n",
    "        # vectors that has dimension (mo)\n",
    "        \n",
    "        # this name identifies uniquely the matrix W\n",
    "        # this assigns to the matrix the needed shape\n",
    "        # you can choose among\n",
    "                                                                              # many different distributions\n",
    "                                                                              # to initialize your weights with\n",
    "        \n",
    "        # this name identifies uniquely the bias vector b \n",
    "                      \n",
    "        # biases can be initialized as zeros\n",
    "        \n",
    "    def forward(self, X):\n",
    "        \n",
    "        \"\"\"This is the forward propagation method of the class Layer\"\"\"\n",
    "        # the method forward performs the following forward propagation \n",
    "        # operation on the input tensor X. Don't worry about back  \n",
    "        # propagation, tensorflow will handle it\n",
    "        \n",
    "        \n",
    "        "
   ]
  },
  {
   "cell_type": "markdown",
   "metadata": {
    "colab_type": "text",
    "id": "JW8GZjGWiS-c"
   },
   "source": [
    "## 2) Creating the AutoEncoder Network"
   ]
  },
  {
   "cell_type": "code",
   "execution_count": 0,
   "metadata": {
    "colab": {},
    "colab_type": "code",
    "id": "yHUTv4KjiS-e"
   },
   "outputs": [],
   "source": [
    "class AutoEncoder(object):\n",
    "    \n",
    "    def __init__():\n",
    "        \n",
    "        # Note: all of what has self in front of it will be reused outside the init method!\n",
    "        #       thus we make some constants to attributes of the class\n",
    "                \n",
    "        \"\"\"\n",
    "        The AutoEncoder (AE) class is initialized by providing the number of features of the \n",
    "        input (in this case 28*28) and a list of integers named layers_dims.\n",
    "        It contains the number of the nodes for the intermediate layers and is of the kind:\n",
    "        \n",
    "        layer_dims= [\n",
    "                     output_nodes_layer_1,\n",
    "                     output_nodes_layer_2,\n",
    "                     output_nodes_layer_3,\n",
    "                     ...\n",
    "                     output_nodes_layer_n\n",
    "                     ]\n",
    "                     \n",
    "        \"\"\"\n",
    "        # Write code here\n",
    "\n",
    "\n",
    "        \"\"\"\n",
    "        \n",
    "        The AE architecture has a butterfly shape and thus we reverse the previous \n",
    "        list of shapes to obtain:\n",
    "        \n",
    "        reversed_layer_dims = [\n",
    "                               output_nodes_layer_(n-1),\n",
    "                               output_nodes_layer_(n-2),\n",
    "                               ...\n",
    "                               output_nodes_layer_2,\n",
    "                               output_nodes_layer_1,\n",
    "                               ]\n",
    "        \"\"\"\n",
    "        # Write code here\n",
    "        \n",
    "        \n",
    "        \"\"\"\n",
    "        \n",
    "        Now we define the placeholder for our input tensor X_in, and create 2 empty lists\n",
    "        named encoder_layers and decoder_layers that will contain the layers of our AE\n",
    "        \n",
    "        \"\"\"\n",
    "        \n",
    "        # Write code here\n",
    "        \n",
    "        \n",
    "        \"\"\"\n",
    "        \n",
    "        We miss one last ingredient to build our AE: a method that builds the network ,\n",
    "        it will be called build_network\n",
    "        \n",
    "        \n",
    "        \"\"\"\n",
    "        # Write code here\n",
    "        \n",
    "    \n",
    "    \"\"\"\n",
    "    Let's define what this build network method does:\n",
    "    \n",
    "    \"\"\"\n",
    "    # Write code here\n",
    "    def build_network(self, input_dim):\n",
    "        \"\"\"Build the network given a certain input dimension.\"\"\"\n",
    "        \n",
    "        \"\"\"\n",
    "        STEP 1: BUILDING THE NETWORK\n",
    "        \n",
    "        the method build_network creates the graph that represents the network. It \n",
    "        does this by making use of two for loops, the first defines the encoder layers\n",
    "        \"\"\"\n",
    "        \n",
    "        \"\"\"\n",
    "        ENCODER LAYERS\n",
    "        \"\"\"\n",
    "        # Write code here\n",
    "        #input size\n",
    "        #set a counter for layers' names\n",
    "        \n",
    "        # loop over a list [mo_1, mo_2, ..., mo_(n-1), mo_n]\n",
    "        # of intermediate layer dimensions\n",
    "        \n",
    "        # for each intermediate layer dimension create a layer\n",
    "        # named 'count' with associated weights of shape W(mi, mo) b(mo)\n",
    "        \n",
    "        # add the created layer to the list of encoder layers\n",
    "        # and increase the counter\n",
    "        # the input dimension mi of the next layer will be the ouput\n",
    "        # dimension of the previous one\n",
    "        \n",
    "        #Note: in this way the class is created independently of the size of the network! the actual\n",
    "        #      list of layer dimensions is given later!\n",
    "            \n",
    "        \"\"\"\n",
    "        DECODER LAYERS\n",
    "        \"\"\"\n",
    "        # We repeat the same operations, but in reverse order to create the right hand-side of the butterfly\n",
    "        # the decoder\n",
    "        \n",
    "        #Write code here\n",
    "        # loop over a list [mo_(n-1), mo_(n-2), ..., mo_2, mo_1]  \n",
    "        \n",
    "        # create the layer here\n",
    "        \n",
    "        # append the layer to the decoder layers list\n",
    "          # increase the counter and\n",
    "        # update the output dimensions\n",
    "            \n",
    "        # Note that the last mo is not the input size, so to compare\n",
    "        # the input of the network with the ouput \n",
    "        \n",
    "        # we'll have to create one last layer\n",
    "        # of dimensions (mi, input_dim):\n",
    "        # and append it to the list of decoder layers\n",
    "        \n",
    "    \n",
    "        \"\"\"\n",
    "        \n",
    "        STEP 2: BUILDING THE GRAPH\n",
    "        \n",
    "        Now that the network has been built, we want to \n",
    "        define how the input will propagate through the encoder and the decoder.\n",
    "        \n",
    "        The overall forward propagation of each side of the network is\n",
    "        the propagation through each single layer and is carried out by the\n",
    "        \"encode\" and \"decode\" functions:\n",
    "        \n",
    "        \"\"\"\n",
    "    \n",
    "        # Propagation of the input through the encoder. \n",
    "        # This outputs the latent vector self.Z\n",
    "        \n",
    "        # Propagation of the latent vector self.Z\n",
    "        # through the decoder, last output is unactivated \n",
    "        # on purpose (will be clearer later)\n",
    "        \n",
    "        \"\"\"\n",
    "        \n",
    "        STEP 3: DEFINING THE LOSS and THE OPTIMIZATION ALGORITHM\n",
    "        \n",
    "        With the two last steps we created the network and the graph of operations\n",
    "        that propagate the input until the network output X_hat. Now we have to define\n",
    "        The loss function, i.e. that positive number, function of the network\n",
    "        parameters that has to be minimized during training.\n",
    "        \n",
    "        \"\"\"\n",
    "        \n",
    "        \"\"\"\n",
    "        LOSS\n",
    "        \"\"\"\n",
    "        \n",
    "        # write code here\n",
    "        \n",
    "        # reduce_sum converts a tensor to a scalar sum of its components\n",
    "                    \n",
    "        \"\"\"\n",
    "        \n",
    "        OPTIMIZATION ALGORITHM\n",
    "        \n",
    "        Define the loss minimization algorithm, we chose Adaptive momentum optimizer (Adam) for \n",
    "        this purpose. Everytime train_op will be called, one step of gradient minimization will\n",
    "        be taken.\n",
    "        \"\"\"\n",
    "        # write code here\n",
    "        # set the learning rate\n",
    "        # what to minimize\n",
    "                                                                \n",
    "    \"\"\"\n",
    "    We now define the last two functions: encode and decode which we used previously\n",
    "    in STEP 2 \n",
    "    \"\"\"\n",
    "    # write code here\n",
    "    def encode(self, X):\n",
    "        \"\"\"Take a sample X and output its encoded form Z.\"\"\"\n",
    "        \n",
    "       \n",
    "       \n",
    "        # This loop propagates the input X\n",
    "        # through the encoder layers using\n",
    "        # their forward method\n",
    "       \n",
    "            \n",
    "        # vector in latent space, Z\n",
    "        \n",
    "    def decode(self, Z):\n",
    "        \"\"\"Decode a vector Z from the latence space to X_hat living in the space of the samples\"\"\"\n",
    "        \n",
    "        \n",
    "        # Loop through the decoder network,  \n",
    "        \n",
    "        \n",
    "        \n",
    "    \n",
    "    \n",
    "    def fit(self, X, show_fig=True):\n",
    "        \"\"\"Fit the autoencoder using X. Requires to have previously called `build_network`\"\"\"\n",
    "         \n",
    "        losses = []                                     # a list containing the losses\n",
    "        n_batches = len(X) // self.batch_size\n",
    "        \n",
    "        print(\"Training AutoEncoder\")\n",
    "        print(\"n_batches:\", n_batches)\n",
    "        for i in range(self.epochs):\n",
    "            \n",
    "            print(\"epoch:\", i)\n",
    "            np.random.shuffle(X)\n",
    "        \n",
    "            for j in range(n_batches):                  # the training cycle in one epoch:\n",
    "            \n",
    "                X_batch = X[j * self.batch_size:(j + 1) * self.batch_size] # the batch to pass for computation\n",
    "                _, current_loss, = self.session.run((self.train_op, self.loss), \n",
    "                                                    feed_dict={self.X_in: X_batch}) #running one step of gradient\n",
    "                current_loss /= self.batch_size                                     #minimization\n",
    "\n",
    "                losses.append(current_loss)\n",
    "                \n",
    "                # let's add some intermediate printouts to see how the training is going\n",
    "                if j % 80 * self.batch_size == 0:        \n",
    "\n",
    "                    print(\"iter: %d, cost: %.3f\" % (j, current_loss))\n",
    "            \n",
    "        if show_fig:\n",
    "            plt.plot(losses)\n",
    "            plt.show()\n",
    "\n",
    "\n",
    "    def predict(self, X):\n",
    "        \"\"\"Test the performance of the network once training is completed.\"\"\"\n",
    "        \n",
    "        return self.session.run(self.X_hat, feed_dict={self.X_in: X})\n",
    "\n",
    "\n",
    "    def set_session(self, session):\n",
    "        \n",
    "        self.session = session\n",
    "        "
   ]
  },
  {
   "cell_type": "markdown",
   "metadata": {
    "colab_type": "text",
    "id": "LzqZCVtXiS-d"
   },
   "source": [
    "We will build the AutoEncoder as a class possessing several methods:\n",
    "\n",
    "```\n",
    "class AutoEncoder():\n",
    "\n",
    "    def __init__():\n",
    "    \n",
    "    def build_network():\n",
    "    \n",
    "    def decode():\n",
    "    \n",
    "    def encode():\n",
    "    \n",
    "    def fit():\n",
    "    \n",
    "```\n",
    "\n",
    "Code along with us and follow the provided instructions \n"
   ]
  },
  {
   "cell_type": "markdown",
   "metadata": {
    "colab_type": "text",
    "id": "U_b4je2SiS-h"
   },
   "source": [
    "## 3) Test the AutoEncoder\n",
    "\n",
    "Now that the AutoEncoder class is defined, we create our own AutoEncoder and test how it works. As usual follow our coding and use the provided instructions"
   ]
  },
  {
   "cell_type": "code",
   "execution_count": 6,
   "metadata": {
    "colab": {
     "base_uri": "https://localhost:8080/",
     "height": 3460
    },
    "colab_type": "code",
    "id": "9eFbOUDDiS-i",
    "outputId": "325ead16-d65e-443e-cbe8-01fb2816faa0"
   },
   "outputs": [
    {
     "name": "stdout",
     "output_type": "stream",
     "text": [
      "WARNING:tensorflow:From /usr/local/lib/python3.6/dist-packages/tensorflow/python/framework/op_def_library.py:263: colocate_with (from tensorflow.python.framework.ops) is deprecated and will be removed in a future version.\n",
      "Instructions for updating:\n",
      "Colocations handled automatically by placer.\n",
      "Training AutoEncoder\n",
      "n_batches: 600\n",
      "epoch: 0\n",
      "iter: 0, cost: 186.113\n",
      "iter: 80, cost: 51.163\n",
      "iter: 160, cost: 40.516\n",
      "iter: 240, cost: 33.501\n",
      "iter: 320, cost: 30.682\n",
      "iter: 400, cost: 28.487\n",
      "iter: 480, cost: 25.156\n",
      "iter: 560, cost: 23.568\n",
      "epoch: 1\n",
      "iter: 0, cost: 23.690\n",
      "iter: 80, cost: 22.993\n",
      "iter: 160, cost: 20.119\n",
      "iter: 240, cost: 18.134\n",
      "iter: 320, cost: 17.958\n",
      "iter: 400, cost: 17.938\n",
      "iter: 480, cost: 16.045\n",
      "iter: 560, cost: 15.783\n",
      "epoch: 2\n",
      "iter: 0, cost: 16.522\n",
      "iter: 80, cost: 15.158\n",
      "iter: 160, cost: 13.026\n",
      "iter: 240, cost: 14.817\n",
      "iter: 320, cost: 14.000\n",
      "iter: 400, cost: 12.598\n",
      "iter: 480, cost: 13.691\n",
      "iter: 560, cost: 11.354\n",
      "epoch: 3\n",
      "iter: 0, cost: 12.285\n",
      "iter: 80, cost: 11.702\n",
      "iter: 160, cost: 10.976\n",
      "iter: 240, cost: 10.927\n",
      "iter: 320, cost: 9.698\n",
      "iter: 400, cost: 9.610\n",
      "iter: 480, cost: 10.949\n",
      "iter: 560, cost: 9.849\n",
      "epoch: 4\n",
      "iter: 0, cost: 10.556\n",
      "iter: 80, cost: 9.836\n",
      "iter: 160, cost: 9.442\n",
      "iter: 240, cost: 9.971\n",
      "iter: 320, cost: 8.527\n",
      "iter: 400, cost: 8.399\n",
      "iter: 480, cost: 8.410\n",
      "iter: 560, cost: 9.536\n",
      "epoch: 5\n",
      "iter: 0, cost: 7.710\n",
      "iter: 80, cost: 8.455\n",
      "iter: 160, cost: 8.339\n",
      "iter: 240, cost: 8.150\n",
      "iter: 320, cost: 7.616\n",
      "iter: 400, cost: 8.002\n",
      "iter: 480, cost: 7.269\n",
      "iter: 560, cost: 7.010\n",
      "epoch: 6\n",
      "iter: 0, cost: 7.497\n",
      "iter: 80, cost: 7.279\n",
      "iter: 160, cost: 7.327\n",
      "iter: 240, cost: 7.513\n",
      "iter: 320, cost: 6.549\n",
      "iter: 400, cost: 6.741\n",
      "iter: 480, cost: 6.766\n",
      "iter: 560, cost: 6.929\n",
      "epoch: 7\n",
      "iter: 0, cost: 7.024\n",
      "iter: 80, cost: 6.194\n",
      "iter: 160, cost: 7.150\n",
      "iter: 240, cost: 6.633\n",
      "iter: 320, cost: 6.485\n",
      "iter: 400, cost: 6.255\n",
      "iter: 480, cost: 6.420\n",
      "iter: 560, cost: 6.849\n",
      "epoch: 8\n",
      "iter: 0, cost: 5.678\n",
      "iter: 80, cost: 5.888\n",
      "iter: 160, cost: 5.687\n",
      "iter: 240, cost: 5.980\n",
      "iter: 320, cost: 6.641\n",
      "iter: 400, cost: 4.848\n",
      "iter: 480, cost: 5.835\n",
      "iter: 560, cost: 6.202\n",
      "epoch: 9\n",
      "iter: 0, cost: 5.002\n",
      "iter: 80, cost: 5.915\n",
      "iter: 160, cost: 5.252\n",
      "iter: 240, cost: 5.408\n",
      "iter: 320, cost: 5.445\n",
      "iter: 400, cost: 5.829\n",
      "iter: 480, cost: 5.120\n",
      "iter: 560, cost: 5.432\n",
      "epoch: 10\n",
      "iter: 0, cost: 4.992\n",
      "iter: 80, cost: 4.832\n",
      "iter: 160, cost: 5.374\n",
      "iter: 240, cost: 5.534\n",
      "iter: 320, cost: 5.929\n",
      "iter: 400, cost: 4.827\n",
      "iter: 480, cost: 4.927\n",
      "iter: 560, cost: 4.735\n",
      "epoch: 11\n",
      "iter: 0, cost: 5.354\n",
      "iter: 80, cost: 5.150\n",
      "iter: 160, cost: 4.945\n",
      "iter: 240, cost: 4.983\n",
      "iter: 320, cost: 4.658\n",
      "iter: 400, cost: 4.829\n",
      "iter: 480, cost: 4.746\n",
      "iter: 560, cost: 4.823\n",
      "epoch: 12\n",
      "iter: 0, cost: 4.762\n",
      "iter: 80, cost: 4.379\n",
      "iter: 160, cost: 4.277\n",
      "iter: 240, cost: 4.273\n",
      "iter: 320, cost: 4.417\n",
      "iter: 400, cost: 4.402\n",
      "iter: 480, cost: 4.925\n",
      "iter: 560, cost: 4.697\n",
      "epoch: 13\n",
      "iter: 0, cost: 4.838\n",
      "iter: 80, cost: 3.561\n",
      "iter: 160, cost: 4.788\n",
      "iter: 240, cost: 4.345\n",
      "iter: 320, cost: 4.277\n",
      "iter: 400, cost: 4.351\n",
      "iter: 480, cost: 3.943\n",
      "iter: 560, cost: 3.954\n",
      "epoch: 14\n",
      "iter: 0, cost: 4.593\n",
      "iter: 80, cost: 4.475\n",
      "iter: 160, cost: 4.475\n",
      "iter: 240, cost: 4.153\n",
      "iter: 320, cost: 4.276\n",
      "iter: 400, cost: 4.038\n",
      "iter: 480, cost: 4.431\n",
      "iter: 560, cost: 4.105\n"
     ]
    },
    {
     "data": {
      "image/png": "[encoded data removed]",
      "text/plain": [
       "<Figure size 432x288 with 1 Axes>"
      ]
     },
     "metadata": {
      "tags": []
     },
     "output_type": "display_data"
    },
    {
     "data": {
      "image/png": "[encoded data removed]",
      "text/plain": [
       "<Figure size 432x288 with 2 Axes>"
      ]
     },
     "metadata": {
      "tags": []
     },
     "output_type": "display_data"
    },
    {
     "name": "stdout",
     "output_type": "stream",
     "text": [
      "Generate another?\n"
     ]
    },
    {
     "data": {
      "image/png": "[encoded data removed]",
      "text/plain": [
       "<Figure size 432x288 with 2 Axes>"
      ]
     },
     "metadata": {
      "tags": []
     },
     "output_type": "display_data"
    },
    {
     "name": "stdout",
     "output_type": "stream",
     "text": [
      "Generate another?y\n"
     ]
    },
    {
     "data": {
      "image/png": "[encoded data removed]",
      "text/plain": [
       "<Figure size 432x288 with 2 Axes>"
      ]
     },
     "metadata": {
      "tags": []
     },
     "output_type": "display_data"
    },
    {
     "name": "stdout",
     "output_type": "stream",
     "text": [
      "Generate another?n\n"
     ]
    }
   ],
   "source": [
    "_, input_dimensions = X_train.shape     # Lets get the input_dimensions from the dataset\n",
    "tf.reset_default_graph()                # Resetting any previously defined graph\n",
    "\n",
    "\"\"\"\n",
    "Create the AutoEncoder object\n",
    "\n",
    "dae = AutoEncoder(input_dim=...,\n",
    "                  layer_dims=[...,...,...],\n",
    "                  learning_rate=...,\n",
    "                  epochs=...,\n",
    "                  batch_size=...)\n",
    "\n",
    "\"\"\"\n",
    "# write code here                \n",
    "# Create your very own network here!!\n",
    "\n",
    "# Play with the layers' list, it will \n",
    "# automatically define the intermediate\n",
    "# layers.\n",
    "\n",
    "# Set some values for the learning rate\n",
    "# the epochs and the batch_size\n",
    "\n",
    "\n",
    "\n",
    "init_op = tf.global_variables_initializer() # Define the network's variables initializer\n",
    "\n",
    "with tf.Session() as sess:  # Create a TensorFlow session\n",
    "    \n",
    "    sess.run(init_op)     # Initialize the network variables in this sess\n",
    "    dae.set_session(sess) # Set it for the AutoEncoder you defined previously\n",
    "    \n",
    "    dae.fit(X_train)      # Call the fit method that you defined previously\n",
    "    \n",
    "\n",
    "    # Testing the created network performances on the test set!\n",
    "    done = False\n",
    "    while not done:\n",
    "        i = np.random.choice(len(X_test))         # pick a random sample of the test set\n",
    "        x = X_test[i]                             \n",
    "        y = dae.predict([x]).reshape(28, 28)      # propagate it through the network\n",
    "\n",
    "        plt.subplot(1,2,1)                        # Plot the original and the reconstructed\n",
    "        plt.imshow(x.reshape(28, 28), cmap='gray')\n",
    "        plt.title(\"Original\")\n",
    "        plt.subplot(1, 2, 2)\n",
    "        plt.imshow(y, cmap='gray')\n",
    "        plt.title(\"Reconstruction\")\n",
    "        plt.show()\n",
    "\n",
    "        ans = input(\"Generate another?\")          # Stop the while loop with 'n' or 'N'\n",
    "        if ans and ans[0] in ('n', 'N'):\n",
    "              done = True"
   ]
  }
 ],
 "metadata": {
  "accelerator": "GPU",
  "colab": {
   "collapsed_sections": [],
   "name": "dae_tf_sol.ipynb",
   "provenance": [],
   "version": "0.3.2"
  },
  "kernelspec": {
   "display_name": "Python 3",
   "language": "python",
   "name": "python3"
  },
  "language_info": {
   "codemirror_mode": {
    "name": "ipython",
    "version": 3
   },
   "file_extension": ".py",
   "mimetype": "text/x-python",
   "name": "python",
   "nbconvert_exporter": "python",
   "pygments_lexer": "ipython3",
   "version": "3.6.8"
  }
 },
 "nbformat": 4,
 "nbformat_minor": 1
}
