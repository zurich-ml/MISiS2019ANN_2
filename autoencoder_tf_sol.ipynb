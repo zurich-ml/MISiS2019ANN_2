{
 "cells": [
  {
   "cell_type": "markdown",
   "metadata": {
    "colab_type": "text",
    "id": "S45-jHTAiS-H"
   },
   "source": [
    "# Tutorial: Coding an AutoEncoder in Tensorflow"
   ]
  },
  {
   "cell_type": "markdown",
   "metadata": {
    "colab_type": "text",
    "id": "ru4BSbh0iS-I"
   },
   "source": [
    "\n",
    "The AutoEncoder network is a network architecture that aims to compress a high dimensional input vector to a vector in a lower dimensional space (encoding). In order to do so the network compresses and decompresses the input during the learning process.\n",
    "\n",
    "![Center](images/ae_arch.png)\n",
    "\n",
    " We call the input of the network $X$ and the output $X'$. The train the network to obtain the optimal compression, i.e. when the difference between the input $X$ and the decompressed output $X'$ is minimum.\n",
    "\n",
    "\n",
    "\n",
    "\n"
   ]
  },
  {
   "cell_type": "markdown",
   "metadata": {
    "colab_type": "text",
    "id": "eZRH6jb9iS-J"
   },
   "source": [
    "***\n",
    "Let's first import some useful libraries, and define the Leaky_ReLU function:"
   ]
  },
  {
   "cell_type": "code",
   "execution_count": 1,
   "metadata": {
    "colab": {},
    "colab_type": "code",
    "id": "aArrtxPRiS-K"
   },
   "outputs": [],
   "source": [
    "import numpy as np\n",
    "import tensorflow as tf\n",
    "import matplotlib.pyplot as plt\n",
    "\n",
    "def lrelu(X, alpha=0.1):\n",
    "    return tf.maximum(alpha*X, X)"
   ]
  },
  {
   "cell_type": "markdown",
   "metadata": {
    "colab_type": "text",
    "id": "rH4KMkOdiS-O"
   },
   "source": [
    "\n",
    "***\n",
    "Let's also import the training set"
   ]
  },
  {
   "cell_type": "code",
   "execution_count": 2,
   "metadata": {
    "colab": {
     "base_uri": "https://localhost:8080/",
     "height": 53
    },
    "colab_type": "code",
    "id": "TQWcWpfDiS-O",
    "outputId": "b923c8f6-e6c9-4cf6-a2b3-d07c6efd7f53"
   },
   "outputs": [],
   "source": [
    "mnist = tf.keras.datasets.mnist\n",
    "(X_train, _), (X_test, _) = mnist.load_data()"
   ]
  },
  {
   "cell_type": "markdown",
   "metadata": {
    "colab_type": "text",
    "id": "hQJgGlCdiS-R"
   },
   "source": [
    "and draw a sample"
   ]
  },
  {
   "cell_type": "code",
   "execution_count": 3,
   "metadata": {
    "colab": {
     "base_uri": "https://localhost:8080/",
     "height": 337
    },
    "colab_type": "code",
    "id": "QZQf2nnliS-S",
    "outputId": "4f772fa7-35aa-4110-d54a-2982a0614ef5"
   },
   "outputs": [
    {
     "name": "stdout",
     "output_type": "stream",
     "text": [
      "\n",
      " Sample: \n",
      "\n"
     ]
    },
    {
     "data": {
      "image/png": "[encoded data removed]",
      "text/plain": [
       "<Figure size 432x288 with 1 Axes>"
      ]
     },
     "metadata": {
      "needs_background": "light"
     },
     "output_type": "display_data"
    }
   ],
   "source": [
    "sample = 2 # chose one sample in the training set\n",
    "\n",
    "# rescale the data\n",
    "X_train = X_train.astype(np.float32).reshape(-1, 28 * 28) / X_train.max()\n",
    "X_test = X_test.astype(np.float32).reshape(-1, 28 * 28) / X_train.max()\n",
    "\n",
    "print('\\n Sample: \\n')\n",
    "plt.imshow(X_test[sample].reshape(28,28), cmap='gray')\n",
    "plt.axis('off');"
   ]
  },
  {
   "cell_type": "markdown",
   "metadata": {
    "colab_type": "text",
    "id": "na7bPuICiS-Y"
   },
   "source": [
    "## 1) Layer class definition"
   ]
  },
  {
   "cell_type": "markdown",
   "metadata": {
    "colab_type": "text",
    "id": "Q3yv_Rz-iS-Z"
   },
   "source": [
    "This class provides the definition of a dense layer. A dense layer is characterized by its trainable weights:\n",
    "\n",
    "- a matrix W of dimensions (m_input, m_output)\n",
    "- a bias vector b of dimensions (m_output)\n",
    "\n",
    "The Layer class possesses the ```forward``` method which performs the linear forward propagation:\n",
    "\n",
    "$$\n",
    "Z_{out}= X_{in} \\times W(m_{in},m_{out})+b(m_{out})\n",
    "$$\n",
    "\n",
    "Code along with us and follow the provided instructions:"
   ]
  },
  {
   "cell_type": "code",
   "execution_count": 4,
   "metadata": {
    "colab": {},
    "colab_type": "code",
    "id": "5wrfmSmriS-Z"
   },
   "outputs": [],
   "source": [
    "class Layer(object):\n",
    "    \n",
    "    def __init__(self, mi, mo, name):\n",
    "        \n",
    "        \"\"\"\n",
    "        This is the init method of the class Layer:\n",
    "        It defines the class itself and contains the\n",
    "        definition of the parameters that will be used by\n",
    "        the other class' methods (i.e. forward)\n",
    "        \n",
    "        Parameters\n",
    "        ----------\n",
    "        mi (int): number of input features\n",
    "        mo (int): number of output features\n",
    "        name (str): name of the layer\n",
    "        \n",
    "        \"\"\"\n",
    "        # we are creating a dense layer, it's trainable parameters\n",
    "        # are the matrix W of dimensions (mi, mo) and the biases\n",
    "        # vectors that has dimension (mo)\n",
    "        \n",
    "        self.W = tf.get_variable(name=f\"W_{name}\",         # this name identifies uniquely the matrix W\n",
    "                                 shape=(mi, mo),           # this assigns to the matrix the needed shape\n",
    "                                 initializer=tf.glorot_uniform_initializer()) # you can choose among\n",
    "                                                                              # many different distributions\n",
    "                                                                              # to initialize your weights with\n",
    "        \n",
    "        self.b = tf.get_variable(name=f\"b_{name}\",        # this name identifies uniquely the bias vector b \n",
    "                                 shape=(mo,),              \n",
    "                                 initializer=tf.zeros_initializer(),) # biases can be initialized as zeros\n",
    "        \n",
    "    def forward(self, X):\n",
    "        \n",
    "        \"\"\"This is the forward propagation method of the class Layer\"\"\"\n",
    "        # the method forward performs the following forward propagation \n",
    "        # operation on the input tensor X. Don't worry about back  \n",
    "        # propagation, tensorflow will handle it\n",
    "        \n",
    "        Z = tf.matmul(X, self.W) + self.b\n",
    "        \n",
    "        return Z\n",
    "        \n",
    "        "
   ]
  },
  {
   "cell_type": "markdown",
   "metadata": {
    "colab_type": "text",
    "id": "JW8GZjGWiS-c"
   },
   "source": [
    "## 2) Creating the AutoEncoder Network"
   ]
  },
  {
   "cell_type": "markdown",
   "metadata": {
    "colab_type": "text",
    "id": "LzqZCVtXiS-d"
   },
   "source": [
    "We will build the AutoEncoder as a class possessing several methods:\n",
    "\n",
    "```\n",
    "class AutoEncoder():\n",
    "\n",
    "    def __init__():\n",
    "    \n",
    "    def build_network():\n",
    "    \n",
    "    def decode():\n",
    "    \n",
    "    def encode():\n",
    "    \n",
    "    def fit():\n",
    "    \n",
    "```\n",
    "\n",
    "Code along with us and follow the provided instructions \n"
   ]
  },
  {
   "cell_type": "code",
   "execution_count": 5,
   "metadata": {
    "colab": {},
    "colab_type": "code",
    "id": "yHUTv4KjiS-e"
   },
   "outputs": [],
   "source": [
    "class AutoEncoder(object):\n",
    "    \n",
    "    def __init__(self, input_dim, layer_dims, \n",
    "                learning_rate, epochs, batch_size):\n",
    "        \n",
    "        # Note: all of what has self in front of it will be reused outside the init method!\n",
    "        #       thus we make some constants to attributes of the class\n",
    "                \n",
    "        \"\"\"\n",
    "        The AutoEncoder (AE) class is initialized by providing the number of features of the \n",
    "        input (in this case 28*28) and a list of integers named layers_dims.\n",
    "        It contains the number of the nodes for the intermediate layers and is of the kind:\n",
    "        \n",
    "        layer_dims= [\n",
    "                     output_nodes_layer_1,\n",
    "                     output_nodes_layer_2,\n",
    "                     output_nodes_layer_3,\n",
    "                     ...\n",
    "                     output_nodes_layer_n\n",
    "                     ]\n",
    "                     \n",
    "        \"\"\"\n",
    "        # Write code here\n",
    "        self.layer_dims = layer_dims \n",
    "        self.learning_rate = learning_rate\n",
    "        self.epochs = epochs\n",
    "        self.batch_size = batch_size\n",
    "\n",
    "        \"\"\"\n",
    "        \n",
    "        The AE architecture has a butterfly shape and thus we reverse the previous \n",
    "        list of shapes to obtain:\n",
    "        \n",
    "        reversed_layer_dims = [\n",
    "                               output_nodes_layer_(n-1),\n",
    "                               output_nodes_layer_(n-2),\n",
    "                               ...\n",
    "                               output_nodes_layer_2,\n",
    "                               output_nodes_layer_1,\n",
    "                               ]\n",
    "        \"\"\"\n",
    "        # Write code here\n",
    "        self.reversed_layer_dims = list(reversed(layer_dims))[1:] #Note: We exclude layer n\n",
    "        \n",
    "        \"\"\"\n",
    "        \n",
    "        Now we define the placeholder for our input tensor X_in, and create 2 empty lists\n",
    "        named encoder_layers and decoder_layers that will contain the layers of our AE\n",
    "        \n",
    "        \"\"\"\n",
    "        \n",
    "        # Write code here\n",
    "        self.X_in = tf.placeholder(tf.float32, shape=(None, input_dim))\n",
    "        \n",
    "        self.encoder_layers = []\n",
    "        self.decoder_layers = []\n",
    "        \n",
    "        \n",
    "        \"\"\"\n",
    "        \n",
    "        We miss one last ingredient to build our AE: a method that builds the network ,\n",
    "        it will be called build_network\n",
    "        \n",
    "        \n",
    "        \"\"\"\n",
    "        # Write code here\n",
    "        self.build_network(input_dim)\n",
    "        \n",
    "    \n",
    "    \"\"\"\n",
    "    Let's define what this build network method does:\n",
    "    \n",
    "    \"\"\"\n",
    "    # Write code here\n",
    "    def build_network(self, input_dim):\n",
    "        \"\"\"Build the network given a certain input dimension.\"\"\"\n",
    "        \n",
    "        \"\"\"\n",
    "        STEP 1: BUILDING THE NETWORK\n",
    "        \n",
    "        the method build_network creates the graph that represents the network. It \n",
    "        does this by making use of two for loops, the first defines the encoder layers\n",
    "        \"\"\"\n",
    "        \n",
    "        \"\"\"\n",
    "        ENCODER LAYERS\n",
    "        \"\"\"\n",
    "        # Write code here\n",
    "        mi = input_dim    #input size\n",
    "        count=0           #set a counter for layers' names\n",
    "        \n",
    "        for mo in self.layer_dims:           # loop over a list [mo_1, mo_2, ..., mo_(n-1), mo_n]\n",
    "                                             # of intermediate layer dimensions\n",
    "                \n",
    "            layer = Layer(mi, mo, count)     # for each intermediate layer dimension create a layer\n",
    "                                             # named 'count' with associated weights of shape W(mi, mo) b(mo)\n",
    "                \n",
    "            self.encoder_layers.append(layer)# add the created layer to the list of encoder layers\n",
    "            count += 1                       # and increase the counter\n",
    "            mi = mo                          # the input dimension mi of the next layer will be the ouput\n",
    "                                             # dimension of the previous one\n",
    "        \n",
    "        #Note: in this way the class is created independently of the size of the network! the actual\n",
    "        #      list of layer dimensions is given later!\n",
    "            \n",
    "        \"\"\"\n",
    "        DECODER LAYERS\n",
    "        \"\"\"\n",
    "        # We repeat the same operations, but in reverse order to create the right hand-side of the butterfly\n",
    "        # the decoder\n",
    "        \n",
    "        #Write code here\n",
    "        for mo in self.reversed_layer_dims:   # loop over a list [mo_(n-1), mo_(n-2), ..., mo_2, mo_1]  \n",
    "            \n",
    "            layer = Layer(mi, mo, count)      # create the layer here\n",
    "            \n",
    "            self.decoder_layers.append(layer) # append the layer to the decoder layers list\n",
    "            count += 1                          # increase the counter and\n",
    "            mi = mo                           # update the output dimensions\n",
    "            \n",
    "        # Note that the last mo is not the input size, so to compare\n",
    "        # the input of the network with the ouput \n",
    "        \n",
    "        output_layer = Layer(mi, input_dim, count)  # we'll have to create one last layer\n",
    "                                                    # of dimensions (mi, input_dim):\n",
    "        self.decoder_layers.append(output_layer)    # and append it to the list of decoder layers\n",
    "        \n",
    "    \n",
    "        \"\"\"\n",
    "        \n",
    "        STEP 2: BUILDING THE GRAPH\n",
    "        \n",
    "        Now that the network has been built, we want to \n",
    "        define how the input will propagate through the encoder and the decoder.\n",
    "        \n",
    "        The overall forward propagation of each side of the network is\n",
    "        the propagation through each single layer and is carried out by the\n",
    "        \"encode\" and \"decode\" functions:\n",
    "        \n",
    "        \"\"\"\n",
    "    \n",
    "        self.Z = self.encode(self.X_in)   # Propagation of the input through the encoder. \n",
    "                                          # This outputs the latent vector self.Z\n",
    "            \n",
    "        self.X_hat = self.decode(self.Z)  # Propagation of the latent vector self.Z\n",
    "                                          # through the decoder, last output is unactivated \n",
    "                                          # on purpose (will be clearer later)\n",
    "        \n",
    "        \"\"\"\n",
    "        \n",
    "        STEP 3: DEFINING THE LOSS and THE OPTIMIZATION ALGORITHM\n",
    "        \n",
    "        With the two last steps we created the network and the graph of operations\n",
    "        that propagate the input until the network output X_hat. Now we have to define\n",
    "        The loss function, i.e. that positive number, function of the network\n",
    "        parameters that has to be minimized during training.\n",
    "        \n",
    "        \"\"\"\n",
    "        \n",
    "        \"\"\"\n",
    "        LOSS\n",
    "        \"\"\"\n",
    "        \n",
    "        # write code here\n",
    "        self.loss = tf.reduce_sum(tf.square(self.X_in - self.X_hat))\n",
    "        # reduce_sum converts a tensor to a scalar sum of its components\n",
    "                    \n",
    "        \"\"\"\n",
    "        \n",
    "        OPTIMIZATION ALGORITHM\n",
    "        \n",
    "        Define the loss minimization algorithm, we chose Adaptive momentum optimizer (Adam) for \n",
    "        this purpose. Everytime train_op will be called, one step of gradient minimization will\n",
    "        be taken.\n",
    "        \"\"\"\n",
    "        # write code here\n",
    "        optimizer = tf.train.AdamOptimizer(learning_rate=self.learning_rate)  # set the learning rate\n",
    "        self.train_op = optimizer.minimize(self.loss)  # what to minimize\n",
    "                                                                \n",
    "    \"\"\"\n",
    "    We now define the last two functions: encode and decode which we used previously\n",
    "    in STEP 2 \n",
    "    \"\"\"\n",
    "    # write code here\n",
    "    def encode(self, X):\n",
    "        \"\"\"Take a sample X and output its encoded form Z.\"\"\"\n",
    "        \n",
    "        output = X\n",
    "        \n",
    "        for layer in self.encoder_layers:               # This loop propagates the input X\n",
    "                                                        # through the encoder layers using\n",
    "            output = layer.forward(output)              # their forward method\n",
    "            output = lrelu(output)\n",
    "            \n",
    "        return output                                   # vector in latent space, Z\n",
    "        \n",
    "    def decode(self, Z):\n",
    "        \"\"\"Decode a vector Z from the latence space to X_hat living in the space of the samples\"\"\"\n",
    "        \n",
    "        output = Z\n",
    "        \n",
    "        for layer in self.decoder_layers:               # Loop through the decoder network,  \n",
    "            \n",
    "            output = layer.forward(output)\n",
    "            output = tf.nn.sigmoid(output)\n",
    "            \n",
    "        return output\n",
    "    \n",
    "    \n",
    "    def fit(self, X, show_fig=True):\n",
    "        \"\"\"Fit the autoencoder using X. Requires to have previously called `build_network`\"\"\"\n",
    "         \n",
    "        losses = []                                     # a list containing the losses\n",
    "        n_batches = len(X) // self.batch_size\n",
    "        \n",
    "        print(\"Training AutoEncoder\")\n",
    "        print(\"n_batches:\", n_batches)\n",
    "        for i in range(self.epochs):\n",
    "            \n",
    "            print(\"epoch:\", i)\n",
    "            np.random.shuffle(X)\n",
    "        \n",
    "            for j in range(n_batches):                  # the training cycle in one epoch:\n",
    "            \n",
    "                X_batch = X[j * self.batch_size:(j + 1) * self.batch_size] # the batch to pass for computation\n",
    "                _, current_loss, = self.session.run((self.train_op, self.loss), \n",
    "                                                    feed_dict={self.X_in: X_batch}) #running one step of gradient\n",
    "                current_loss /= self.batch_size                                     #minimization\n",
    "\n",
    "                losses.append(current_loss)\n",
    "                \n",
    "                # let's add some intermediate printouts to see how the training is going\n",
    "                if j % 80 * self.batch_size == 0:        \n",
    "\n",
    "                    print(\"iter: %d, cost: %.3f\" % (j, current_loss))\n",
    "            \n",
    "        if show_fig:\n",
    "            plt.plot(losses)\n",
    "            plt.show()\n",
    "\n",
    "\n",
    "    def predict(self, X):\n",
    "        \"\"\"Test the performance of the network once training is completed.\"\"\"\n",
    "        \n",
    "        return self.session.run(self.X_hat, feed_dict={self.X_in: X})\n",
    "\n",
    "\n",
    "    def set_session(self, session):\n",
    "        \n",
    "        self.session = session\n",
    "        "
   ]
  },
  {
   "cell_type": "markdown",
   "metadata": {
    "colab_type": "text",
    "id": "U_b4je2SiS-h"
   },
   "source": [
    "## 3) Test the AutoEncoder\n",
    "\n",
    "Now that the AutoEncoder class is defined, we create our own AutoEncoder and test how it works. As usual follow our coding and use the provided instructions"
   ]
  },
  {
   "cell_type": "code",
   "execution_count": null,
   "metadata": {
    "colab": {
     "base_uri": "https://localhost:8080/",
     "height": 3460
    },
    "colab_type": "code",
    "id": "9eFbOUDDiS-i",
    "outputId": "325ead16-d65e-443e-cbe8-01fb2816faa0"
   },
   "outputs": [
    {
     "name": "stdout",
     "output_type": "stream",
     "text": [
      "WARNING:tensorflow:From /home/hep/davide/miniconda3/envs/keras_env/lib/python3.6/site-packages/tensorflow/python/framework/op_def_library.py:263: colocate_with (from tensorflow.python.framework.ops) is deprecated and will be removed in a future version.\n",
      "Instructions for updating:\n",
      "Colocations handled automatically by placer.\n",
      "Training AutoEncoder\n",
      "n_batches: 600\n",
      "epoch: 0\n",
      "iter: 0, cost: 188.731\n",
      "iter: 80, cost: 49.702\n",
      "iter: 160, cost: 42.722\n",
      "iter: 240, cost: 34.968\n",
      "iter: 320, cost: 33.777\n",
      "iter: 400, cost: 28.922\n",
      "iter: 480, cost: 26.758\n",
      "iter: 560, cost: 22.722\n",
      "epoch: 1\n",
      "iter: 0, cost: 24.623\n",
      "iter: 80, cost: 19.154\n",
      "iter: 160, cost: 21.726\n",
      "iter: 240, cost: 20.121\n",
      "iter: 320, cost: 17.852\n",
      "iter: 400, cost: 18.929\n",
      "iter: 480, cost: 17.906\n",
      "iter: 560, cost: 15.871\n",
      "epoch: 2\n",
      "iter: 0, cost: 15.706\n",
      "iter: 80, cost: 15.465\n",
      "iter: 160, cost: 13.588\n",
      "iter: 240, cost: 13.768\n",
      "iter: 320, cost: 14.654\n",
      "iter: 400, cost: 12.197\n",
      "iter: 480, cost: 12.460\n",
      "iter: 560, cost: 12.701\n",
      "epoch: 3\n",
      "iter: 0, cost: 11.306\n",
      "iter: 80, cost: 11.615\n",
      "iter: 160, cost: 11.217\n",
      "iter: 240, cost: 11.635\n",
      "iter: 320, cost: 10.605\n",
      "iter: 400, cost: 10.596\n",
      "iter: 480, cost: 10.194\n",
      "iter: 560, cost: 9.668\n",
      "epoch: 4\n",
      "iter: 0, cost: 9.494\n",
      "iter: 80, cost: 9.238\n",
      "iter: 160, cost: 10.111\n",
      "iter: 240, cost: 9.094\n",
      "iter: 320, cost: 8.793\n",
      "iter: 400, cost: 9.362\n",
      "iter: 480, cost: 8.036\n",
      "iter: 560, cost: 8.684\n",
      "epoch: 5\n",
      "iter: 0, cost: 8.696\n",
      "iter: 80, cost: 8.816\n",
      "iter: 160, cost: 7.788\n",
      "iter: 240, cost: 8.695\n",
      "iter: 320, cost: 7.051\n",
      "iter: 400, cost: 7.893\n",
      "iter: 480, cost: 7.757\n",
      "iter: 560, cost: 6.971\n",
      "epoch: 6\n",
      "iter: 0, cost: 7.560\n",
      "iter: 80, cost: 6.683\n",
      "iter: 160, cost: 6.836\n",
      "iter: 240, cost: 7.088\n",
      "iter: 320, cost: 6.561\n",
      "iter: 400, cost: 6.789\n",
      "iter: 480, cost: 7.078\n",
      "iter: 560, cost: 6.373\n",
      "epoch: 7\n",
      "iter: 0, cost: 6.219\n",
      "iter: 80, cost: 6.495\n",
      "iter: 160, cost: 6.534\n",
      "iter: 240, cost: 6.699\n",
      "iter: 320, cost: 6.333\n",
      "iter: 400, cost: 5.991\n",
      "iter: 480, cost: 6.265\n",
      "iter: 560, cost: 5.984\n",
      "epoch: 8\n",
      "iter: 0, cost: 5.442\n",
      "iter: 80, cost: 5.750\n",
      "iter: 160, cost: 5.796\n",
      "iter: 240, cost: 5.613\n",
      "iter: 320, cost: 5.724\n",
      "iter: 400, cost: 5.773\n",
      "iter: 480, cost: 5.380\n",
      "iter: 560, cost: 5.410\n",
      "epoch: 9\n",
      "iter: 0, cost: 5.676\n",
      "iter: 80, cost: 5.646\n",
      "iter: 160, cost: 5.144\n",
      "iter: 240, cost: 5.765\n",
      "iter: 320, cost: 4.888\n",
      "iter: 400, cost: 5.701\n",
      "iter: 480, cost: 5.378\n",
      "iter: 560, cost: 5.261\n",
      "epoch: 10\n",
      "iter: 0, cost: 5.179\n",
      "iter: 80, cost: 5.097\n",
      "iter: 160, cost: 4.712\n",
      "iter: 240, cost: 4.913\n",
      "iter: 320, cost: 5.115\n",
      "iter: 400, cost: 5.216\n",
      "iter: 480, cost: 4.544\n",
      "iter: 560, cost: 5.204\n",
      "epoch: 11\n",
      "iter: 0, cost: 4.691\n",
      "iter: 80, cost: 4.782\n",
      "iter: 160, cost: 4.974\n",
      "iter: 240, cost: 4.713\n",
      "iter: 320, cost: 4.702\n",
      "iter: 400, cost: 4.947\n",
      "iter: 480, cost: 4.751\n",
      "iter: 560, cost: 4.302\n",
      "epoch: 12\n",
      "iter: 0, cost: 4.750\n",
      "iter: 80, cost: 4.564\n",
      "iter: 160, cost: 4.659\n",
      "iter: 240, cost: 4.268\n",
      "iter: 320, cost: 4.791\n",
      "iter: 400, cost: 3.955\n",
      "iter: 480, cost: 4.272\n",
      "iter: 560, cost: 4.178\n",
      "epoch: 13\n",
      "iter: 0, cost: 4.441\n",
      "iter: 80, cost: 4.266\n",
      "iter: 160, cost: 4.094\n",
      "iter: 240, cost: 4.223\n",
      "iter: 320, cost: 4.043\n",
      "iter: 400, cost: 4.124\n",
      "iter: 480, cost: 4.308\n",
      "iter: 560, cost: 4.259\n",
      "epoch: 14\n",
      "iter: 0, cost: 4.257\n",
      "iter: 80, cost: 4.079\n",
      "iter: 160, cost: 4.098\n",
      "iter: 240, cost: 3.681\n",
      "iter: 320, cost: 4.323\n",
      "iter: 400, cost: 3.801\n",
      "iter: 480, cost: 4.013\n",
      "iter: 560, cost: 3.836\n"
     ]
    },
    {
     "data": {
      "image/png": "[encoded data removed]",
      "text/plain": [
       "<Figure size 432x288 with 1 Axes>"
      ]
     },
     "metadata": {
      "needs_background": "light"
     },
     "output_type": "display_data"
    },
    {
     "data": {
      "image/png": "[encoded data removed]",
      "text/plain": [
       "<Figure size 432x288 with 2 Axes>"
      ]
     },
     "metadata": {
      "needs_background": "light"
     },
     "output_type": "display_data"
    },
    {
     "name": "stdout",
     "output_type": "stream",
     "text": [
      "Generate another?\n"
     ]
    },
    {
     "data": {
      "image/png": "[encoded data removed]",
      "text/plain": [
       "<Figure size 432x288 with 2 Axes>"
      ]
     },
     "metadata": {
      "needs_background": "light"
     },
     "output_type": "display_data"
    },
    {
     "name": "stdout",
     "output_type": "stream",
     "text": [
      "Generate another?\n"
     ]
    },
    {
     "data": {
      "image/png": "[encoded data removed]",
      "text/plain": [
       "<Figure size 432x288 with 2 Axes>"
      ]
     },
     "metadata": {
      "needs_background": "light"
     },
     "output_type": "display_data"
    },
    {
     "name": "stdout",
     "output_type": "stream",
     "text": [
      "Generate another?\n"
     ]
    },
    {
     "data": {
      "image/png": "[encoded data removed]",
      "text/plain": [
       "<Figure size 432x288 with 2 Axes>"
      ]
     },
     "metadata": {
      "needs_background": "light"
     },
     "output_type": "display_data"
    },
    {
     "name": "stdout",
     "output_type": "stream",
     "text": [
      "Generate another?\n"
     ]
    },
    {
     "data": {
      "image/png": "[encoded data removed]",
      "text/plain": [
       "<Figure size 432x288 with 2 Axes>"
      ]
     },
     "metadata": {
      "needs_background": "light"
     },
     "output_type": "display_data"
    },
    {
     "name": "stdout",
     "output_type": "stream",
     "text": [
      "Generate another?\n"
     ]
    },
    {
     "data": {
      "image/png": "[encoded data removed]",
      "text/plain": [
       "<Figure size 432x288 with 2 Axes>"
      ]
     },
     "metadata": {
      "needs_background": "light"
     },
     "output_type": "display_data"
    },
    {
     "name": "stdout",
     "output_type": "stream",
     "text": [
      "Generate another?\n"
     ]
    },
    {
     "data": {
      "image/png": "[encoded data removed]",
      "text/plain": [
       "<Figure size 432x288 with 2 Axes>"
      ]
     },
     "metadata": {
      "needs_background": "light"
     },
     "output_type": "display_data"
    },
    {
     "name": "stdout",
     "output_type": "stream",
     "text": [
      "Generate another?\n"
     ]
    },
    {
     "data": {
      "image/png": "[encoded data removed]",
      "text/plain": [
       "<Figure size 432x288 with 2 Axes>"
      ]
     },
     "metadata": {
      "needs_background": "light"
     },
     "output_type": "display_data"
    },
    {
     "name": "stdout",
     "output_type": "stream",
     "text": [
      "Generate another?\n"
     ]
    },
    {
     "data": {
      "image/png": "[encoded data removed]",
      "text/plain": [
       "<Figure size 432x288 with 2 Axes>"
      ]
     },
     "metadata": {
      "needs_background": "light"
     },
     "output_type": "display_data"
    },
    {
     "name": "stdout",
     "output_type": "stream",
     "text": [
      "Generate another?\n"
     ]
    },
    {
     "data": {
      "image/png": "[encoded data removed]",
      "text/plain": [
       "<Figure size 432x288 with 2 Axes>"
      ]
     },
     "metadata": {
      "needs_background": "light"
     },
     "output_type": "display_data"
    },
    {
     "name": "stdout",
     "output_type": "stream",
     "text": [
      "Generate another?\n"
     ]
    },
    {
     "data": {
      "image/png": "[encoded data removed]",
      "text/plain": [
       "<Figure size 432x288 with 2 Axes>"
      ]
     },
     "metadata": {
      "needs_background": "light"
     },
     "output_type": "display_data"
    },
    {
     "name": "stdout",
     "output_type": "stream",
     "text": [
      "Generate another?\n"
     ]
    },
    {
     "data": {
      "image/png": "[encoded data removed]",
      "text/plain": [
       "<Figure size 432x288 with 2 Axes>"
      ]
     },
     "metadata": {
      "needs_background": "light"
     },
     "output_type": "display_data"
    }
   ],
   "source": [
    "_, input_dimensions = X_train.shape     # Lets get the input_dimensions from the dataset\n",
    "tf.reset_default_graph()                # Resetting any previously defined graph\n",
    "\n",
    "\"\"\"\n",
    "Create the AutoEncoder object\n",
    "\n",
    "dae = AutoEncoder(input_dim=...,\n",
    "                  layer_dims=[...,...,...],\n",
    "                  learning_rate=...,\n",
    "                  epochs=...,\n",
    "                  batch_size=...)\n",
    "\n",
    "\"\"\"\n",
    "# write code here                \n",
    "dae = AutoEncoder(input_dim=input_dimensions, # Create your very own network here!!\n",
    "                  \n",
    "                  layer_dims=[500,300,100],   # Play with the layers' list, it will \n",
    "                                              # automatically define the intermediate\n",
    "                                              # layers.\n",
    "                  \n",
    "                  learning_rate=0.0008,       # Set some values for the learning rate\n",
    "                  epochs=15, batch_size=100)  # the epochs and the batch_size\n",
    "\n",
    "\n",
    "\n",
    "init_op = tf.global_variables_initializer() # Define the network's variables initializer\n",
    "\n",
    "\n",
    "with tf.Session() as sess:  # Create a TensorFlow session\n",
    "    \n",
    "    sess.run(init_op)     # Initialize the network variables in this sess\n",
    "    dae.set_session(sess) # Set it for the AutoEncoder you defined previously\n",
    "    \n",
    "    dae.fit(X_train)      # Call the fit method that you defined previously\n",
    "    \n",
    "\n",
    "    # Testing the created network performances on the test set!\n",
    "    done = False\n",
    "    while not done:\n",
    "        i = np.random.choice(len(X_test))         # pick a random sample of the test set\n",
    "        x = X_test[i]                             \n",
    "        y = dae.predict([x]).reshape(28, 28)      # propagate it through the network\n",
    "\n",
    "        plt.subplot(1,2,1)                        # Plot the original and the reconstructed\n",
    "        plt.imshow(x.reshape(28, 28), cmap='gray')\n",
    "        plt.title(\"Original\")\n",
    "        plt.subplot(1, 2, 2)\n",
    "        plt.imshow(y, cmap='gray')\n",
    "        plt.title(\"Reconstruction\")\n",
    "        plt.show()\n",
    "\n",
    "        ans = input(\"Generate another?\")          # Stop the while loop with 'n' or 'N'\n",
    "        if ans and ans[0] in ('n', 'N'):\n",
    "              done = True"
   ]
  },
  {
   "cell_type": "code",
   "execution_count": null,
   "metadata": {},
   "outputs": [],
   "source": []
  }
 ],
 "metadata": {
  "accelerator": "GPU",
  "colab": {
   "collapsed_sections": [],
   "name": "dae_tf_sol.ipynb",
   "provenance": [],
   "version": "0.3.2"
  },
  "kernelspec": {
   "display_name": "Python 3",
   "language": "python",
   "name": "python3"
  },
  "language_info": {
   "codemirror_mode": {
    "name": "ipython",
    "version": 3
   },
   "file_extension": ".py",
   "mimetype": "text/x-python",
   "name": "python",
   "nbconvert_exporter": "python",
   "pygments_lexer": "ipython3",
   "version": "3.6.8"
  }
 },
 "nbformat": 4,
 "nbformat_minor": 1
}
